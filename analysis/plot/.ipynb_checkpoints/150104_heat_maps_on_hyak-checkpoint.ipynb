{
 "cells": [
  {
   "cell_type": "code",
   "execution_count": null,
   "metadata": {
    "collapsed": false
   },
   "outputs": [],
   "source": [
    "import pandas as pd\n",
    "import numpy as np\n",
    "import matplotlib\n",
    "import matplotlib.pyplot as plt\n",
    "import os\n",
    "import re\n",
    "import seaborn as sns\n",
    "import time  # for filenames"
   ]
  },
  {
   "cell_type": "code",
   "execution_count": null,
   "metadata": {
    "collapsed": false
   },
   "outputs": [],
   "source": [
    "# load in the spreadsheet tabulating # of reads per organism.  Data not normalized (as of 150104)\n",
    "d = pd.read_csv(\"/gscratch/lidstrom/meta4/analysis/assemble_summaries/summary_genome.dat\", sep=\"\\t\")"
   ]
  },
  {
   "cell_type": "code",
   "execution_count": null,
   "metadata": {
    "collapsed": false
   },
   "outputs": [],
   "source": [
    "# preview the columns\n",
    "d.columns[1:5]"
   ]
  },
  {
   "cell_type": "code",
   "execution_count": null,
   "metadata": {
    "collapsed": false
   },
   "outputs": [],
   "source": [
    "# Trim names like SUM(summary_week14_O2High.LakWasM130_HOW14_2_reads_mapped) to 130_HOW14\n",
    "def extract_colname(string):\n",
    "    return re.search(pattern=r'summary_week[0-9]+_O2[A-z]+.[A-z]+([0-9]+_[H,L]OW[0-9]+)_2_reads_mapped', \n",
    "                     string=string).group(1)\n",
    "# function demo\n",
    "extract_colname(\"summary_week14_O2High.LakWasM128_HOW14_2_reads_mapped\")"
   ]
  },
  {
   "cell_type": "code",
   "execution_count": null,
   "metadata": {
    "collapsed": false
   },
   "outputs": [],
   "source": [
    "# replace the columns with a new list of column names.  Don't change the 0th one, which is 'genome'. \n",
    "d.columns = [d.columns[0]] + map(extract_colname, d.columns[1:])"
   ]
  },
  {
   "cell_type": "code",
   "execution_count": null,
   "metadata": {
    "collapsed": false
   },
   "outputs": [],
   "source": [
    "d.head()"
   ]
  },
  {
   "cell_type": "code",
   "execution_count": null,
   "metadata": {
    "collapsed": false
   },
   "outputs": [],
   "source": [
    "# Need to set indexes or seaborn will be confused why genome column doesn't have numeric values. \n",
    "d_indexed = d.set_index(['genome'])\n",
    "d_indexed.head()"
   ]
  },
  {
   "cell_type": "code",
   "execution_count": null,
   "metadata": {
    "collapsed": true
   },
   "outputs": [],
   "source": [
    "# ask for inline plots (assumes interactive .ipnb session)\n",
    "%matplotlib inline"
   ]
  },
  {
   "cell_type": "code",
   "execution_count": null,
   "metadata": {
    "collapsed": false
   },
   "outputs": [],
   "source": [
    "# make a demo plot using fake data\n",
    "uniform_data = np.random.rand(10, 12)\n",
    "#print uniform_data\n",
    "ax = sns.heatmap(uniform_data)"
   ]
  },
  {
   "cell_type": "code",
   "execution_count": null,
   "metadata": {
    "collapsed": false
   },
   "outputs": [],
   "source": [
    "# Show it works for our data (but will need to facet/organize)\n",
    "sns.heatmap(data = d_indexed)"
   ]
  },
  {
   "cell_type": "code",
   "execution_count": null,
   "metadata": {
    "collapsed": false
   },
   "outputs": [],
   "source": [
    "# melt the data.  Seaborn facets ask for melted data.  \n",
    "# You pivot it back into a rectangle before plotting; see below. \n",
    "d_melt = pd.melt(d, id_vars='genome', var_name='id', value_name='reads')\n",
    "d_melt.head()"
   ]
  },
  {
   "cell_type": "code",
   "execution_count": null,
   "metadata": {
    "collapsed": false
   },
   "outputs": [],
   "source": [
    "# read in the metadata. \n",
    "# Produced by an R script:  /Users/janet/Dropbox/meta4/data/151229_sample_meta_info/sample_meta_info.tsv\n",
    "md = pd.read_csv('sample_meta_info.tsv', sep='\\t')\n",
    "md.head()\n",
    "# tidy things up\n",
    "md = md.rename(columns = {'oxy':'oxygen'})\n",
    "del md['name']\n",
    "del md['week_long']\n",
    "# make the oxygen amounts lowercase. \n",
    "md['oxygen'] = md['oxygen'].str.lower()"
   ]
  },
  {
   "cell_type": "code",
   "execution_count": null,
   "metadata": {
    "collapsed": false
   },
   "outputs": [],
   "source": [
    "md.head()"
   ]
  },
  {
   "cell_type": "code",
   "execution_count": null,
   "metadata": {
    "collapsed": true
   },
   "outputs": [],
   "source": [
    "# merge on the metadata. \n",
    "df_melt = pd.merge(left=d_melt, right = md, how='outer')"
   ]
  },
  {
   "cell_type": "code",
   "execution_count": null,
   "metadata": {
    "collapsed": false
   },
   "outputs": [],
   "source": [
    "df_melt.head()"
   ]
  },
  {
   "cell_type": "code",
   "execution_count": null,
   "metadata": {
    "collapsed": false
   },
   "outputs": [],
   "source": [
    "# now cast it so we can make seaborn plots. \n",
    "df = df_melt.pivot_table(index=['rep', 'genome', 'oxygen'], columns=['week'], values='reads')\n",
    "df.head()"
   ]
  },
  {
   "cell_type": "code",
   "execution_count": null,
   "metadata": {
    "collapsed": false
   },
   "outputs": [],
   "source": [
    "# get subsets of the data. http://pandas.pydata.org/pandas-docs/stable/advanced.html\n",
    "idx = pd.IndexSlice\n",
    "# demo: \n",
    "df.loc[idx[:,\"Arthrobacter sp. 31Y\", 'high'],]   \n",
    "# any index 1 (rep), only genome == \"Arthrobacter sp. 31Y\", only oxygen == 'high'"
   ]
  },
  {
   "cell_type": "code",
   "execution_count": null,
   "metadata": {
    "collapsed": false
   },
   "outputs": [],
   "source": [
    "# accessing subsets of the data using the multi-indexes\n",
    "print df.loc[idx[:,:, 'high'],].head()\n",
    "sns.heatmap(data = df.loc[idx[:,:, 'high'],])"
   ]
  },
  {
   "cell_type": "code",
   "execution_count": null,
   "metadata": {
    "collapsed": true
   },
   "outputs": [],
   "source": [
    "# Make a new column, called 'facet rep' to use as facet titles\n",
    "df_melt['facet rep'] = 'replicate ' + df_melt['rep'].astype(str)"
   ]
  },
  {
   "cell_type": "code",
   "execution_count": null,
   "metadata": {
    "collapsed": false
   },
   "outputs": [],
   "source": [
    "df_melt.head()"
   ]
  },
  {
   "cell_type": "code",
   "execution_count": null,
   "metadata": {
    "collapsed": true
   },
   "outputs": [],
   "source": [
    "# Make a plot directory. \n",
    "def make_dir(directory):\n",
    "    if not os.path.exists(directory):\n",
    "        os.makedirs(directory)\n",
    "        \n",
    "make_dir('plots')"
   ]
  },
  {
   "cell_type": "code",
   "execution_count": null,
   "metadata": {
    "collapsed": false
   },
   "outputs": [],
   "source": [
    "# Make facetd heatmaps. \n",
    "# http://stackoverflow.com/questions/34552770/getting-a-legend-in-a-seaborn-facetgrid-heatmap-plot\n",
    "\n",
    "def facet_heatmap(data, color, **kwargs):\n",
    "    \"\"\" Tells the individual plots in the FacetGrid what to do.\n",
    "    Also passes on info about the legend via the **kws\"\"\"\n",
    "    print kwargs  # holds info about the colorbar.  E.g. cbar_ax=cbar_ax\n",
    "    # use pivot_table to cast the data how seaborn wants.  \n",
    "    # Note that the default way to handle duplicate rows would be to average the values.\n",
    "    # We overwrite this by telling it to use the sum. \n",
    "    data = data.pivot_table(index='genome', columns='week', values='reads', aggfunc=np.sum)\n",
    "    g = sns.heatmap(data, cmap='Blues', **kwargs) # <-- Pass kwargs to heatmap    \n",
    "\n",
    "def plot_by_oxygen_tension(data, filename, oxygen='all', dir='plots'):\n",
    "    \"\"\" Make and save a seaborn FacetGrid plot for the data.\"\"\"\n",
    "    # prepare filename\n",
    "    filename = dir +\"/\" + time.strftime(\"%Y%m%d\") + '_' + filename + '--' + oxygen + \"_O2\"+ '.pdf'\n",
    "    print filename\n",
    "    if oxygen=='all':\n",
    "        print \"using all data\"\n",
    "    else: \n",
    "        # .loc[idx[:,:,['C1','C3']],idx[:,'foo']]\n",
    "        data = data.loc[data['oxygen'] == oxygen]\n",
    "        print data['oxygen'].unique() \n",
    "    # make the replicate number a facet label\n",
    "    col_order = ['replicate 1','replicate 2','replicate 3','replicate 4']\n",
    "    # need to facet by replicate. \n",
    "    # use the seaborn.plotting_context to change the settings for just the current plot:\n",
    "        # http://stackoverflow.com/questions/25328003/how-can-i-change-the-font-size-using-seaborn-facetgrid\n",
    "    num_genomes = len(data['genome'].unique())\n",
    "    with sns.plotting_context(font_scale=8):\n",
    "        g = sns.FacetGrid(data, col=\"facet rep\", col_wrap=4, \n",
    "                          size=1+.2*num_genomes, aspect=50./num_genomes/4,  # size is height of each facet.\n",
    "                          col_order=col_order)  \n",
    "        cbar_ax = g.fig.add_axes([.92, .3, .02, .4])  # <-- Create a colorbar axes\n",
    "        g = g.map_dataframe(facet_heatmap, cbar_ax=cbar_ax) \n",
    "               # ,  vmin=0, vmax=1 # <-- Specify the colorbar axes and limits\n",
    "        g.set_titles(col_template=\"{col_name}\", fontweight='bold', fontsize=18)\n",
    "        g.set_axis_labels('week')\n",
    "        g.fig.subplots_adjust(right=.9)  # <-- Add space so the colorbar doesn't overlap the plot\n",
    "        g.savefig(filename)"
   ]
  },
  {
   "cell_type": "code",
   "execution_count": null,
   "metadata": {
    "collapsed": false
   },
   "outputs": [],
   "source": [
    "# Make the first handful of plots.         \n",
    "plot_by_oxygen_tension(df_melt, filename = 'reads_per_isolate_genome')\n",
    "plot_by_oxygen_tension(df_melt, filename = 'reads_per_isolate_genome', oxygen='high')\n",
    "plot_by_oxygen_tension(df_melt, filename = 'reads_per_isolate_genome', oxygen='low')"
   ]
  },
  {
   "cell_type": "code",
   "execution_count": null,
   "metadata": {
    "collapsed": false
   },
   "outputs": [],
   "source": [
    "# We want to be able to see subsets of the organisms.  \n",
    "# For example, we may only want to include organisms who had high experssion in at least one sample \n",
    "def genomes_with_min_expression(data, min_val):\n",
    "    \"\"\" give back a genome names for genomes with at least one read sum over the mean_val \"\"\" \n",
    "    return data.loc[data['reads'] > min_val]['genome'].unique()\n",
    "\n",
    "# demo: \n",
    "genomes_with_min_expression(data= df_melt, min_val = 10**6) \n",
    "    "
   ]
  },
  {
   "cell_type": "code",
   "execution_count": null,
   "metadata": {
    "collapsed": false
   },
   "outputs": [],
   "source": [
    "def subset_by_threshold(df, min_val):\n",
    "    \"\"\" Subset DataFrame to genomes with names in a list.  \"\"\"\n",
    "    return df[df['genome'].isin(genomes_with_min_expression(data=df, min_val = min_val))]\n",
    "    "
   ]
  },
  {
   "cell_type": "code",
   "execution_count": null,
   "metadata": {
    "collapsed": false
   },
   "outputs": [],
   "source": [
    "# Demo of subset_by_threshold, which leverages genomes_with_min_expression()\n",
    "subset_by_threshold(df=df_melt, min_val=10**6).head()"
   ]
  },
  {
   "cell_type": "code",
   "execution_count": null,
   "metadata": {
    "collapsed": false
   },
   "outputs": [],
   "source": [
    "plot_by_oxygen_tension(data = subset_by_threshold(df=df_melt, min_val=10**5), \n",
    "                       filename = 'reads_per_isolate_genome--limit_10_to_5th')\n",
    "plot_by_oxygen_tension(data = subset_by_threshold(df=df_melt, min_val=10**6), \n",
    "                       filename = 'reads_per_isolate_genome--limit_10_to_6th')\n",
    "\n",
    "plot_by_oxygen_tension(data = subset_by_threshold(df=df_melt, min_val=10**5), oxygen='high', \n",
    "                       filename = 'reads_per_isolate_genome--limit_10_to_5th')\n",
    "plot_by_oxygen_tension(data = subset_by_threshold(df=df_melt, min_val=10**6), oxygen='high', \n",
    "                       filename = 'reads_per_isolate_genome--limit_10_to_6th')\n",
    "\n",
    "plot_by_oxygen_tension(data = subset_by_threshold(df=df_melt, min_val=10**5), oxygen='low', \n",
    "                       filename = 'reads_per_isolate_genome--limit_10_to_5th')\n",
    "plot_by_oxygen_tension(data = subset_by_threshold(df=df_melt, min_val=10**6), oxygen='low', \n",
    "                       filename = 'reads_per_isolate_genome--limit_10_to_6th')\n",
    "\n",
    "#plot_by_oxygen_tension(df_melt, filename = 'reads_per_isolate_genome', oxygen='high')\n",
    "#plot_by_oxygen_tension(df_melt, filename = 'reads_per_isolate_genome', oxygen='low')"
   ]
  }
 ],
 "metadata": {
  "kernelspec": {
   "display_name": "Python 2",
   "language": "python",
   "name": "python2"
  },
  "language_info": {
   "codemirror_mode": {
    "name": "ipython",
    "version": 2
   },
   "file_extension": ".py",
   "mimetype": "text/x-python",
   "name": "python",
   "nbconvert_exporter": "python",
   "pygments_lexer": "ipython2",
   "version": "2.7.9"
  }
 },
 "nbformat": 4,
 "nbformat_minor": 0
}
